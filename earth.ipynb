{
 "cells": [
  {
   "cell_type": "code",
   "execution_count": 114,
   "metadata": {},
   "outputs": [
    {
     "name": "stdout",
     "output_type": "stream",
     "text": [
      "Notebook initialized with ipy backend.\n"
     ]
    }
   ],
   "source": [
    "import numpy as np\n",
    "from scipy.spatial import SphericalVoronoi,distance_matrix\n",
    "from scipy.optimize import basinhopping,minimize\n",
    "\n",
    "from matplotlib import colors\n",
    "from mpl_toolkits.mplot3d.art3d import Poly3DCollection\n",
    "import matplotlib.pyplot as plt\n",
    "from mpl_toolkits.mplot3d import proj3d\n",
    "\n",
    "from mayavi import mlab\n",
    "mlab.init_notebook()\n",
    "\n",
    "from tqdm import tqdm\n",
    "\n",
    "%matplotlib notebook"
   ]
  },
  {
   "cell_type": "code",
   "execution_count": 12,
   "metadata": {},
   "outputs": [],
   "source": [
    "def sample_spherical(npoints, ndim=3):\n",
    "    vec = np.random.randn(ndim, npoints)\n",
    "    vec /= np.linalg.norm(vec, axis=0)\n",
    "    return vec.transpose()\n",
    "def arc(p1,p2,t):\n",
    "    a0=p1[0]+t*(p2[0]-p1[0])\n",
    "    a1=p1[1]+t*(p2[1]-p1[1])\n",
    "    a2=p1[2]+t*(p2[2]-p1[2])\n",
    "    n=(a0**2+a1**2+a2**2)**.5\n",
    "    return np.array([a0/n,a1/n,a2/n]).transpose()"
   ]
  },
  {
   "cell_type": "code",
   "execution_count": 13,
   "metadata": {},
   "outputs": [
    {
     "data": {
      "text/plain": [
       "(10, 3)"
      ]
     },
     "execution_count": 13,
     "metadata": {},
     "output_type": "execute_result"
    }
   ],
   "source": [
    "np.shape(arc(np.array([0,0,1]),np.array([1,0,0]),np.linspace(0,1,10)))"
   ]
  },
  {
   "cell_type": "code",
   "execution_count": 133,
   "metadata": {},
   "outputs": [],
   "source": [
    "# set input data\n",
    "N=20\n",
    "points = sample_spherical(N)\n",
    "s=np.shape(points)\n",
    "\n",
    "def normalize(points):\n",
    "    norm=np.sum(points**2,axis=1)**.5\n",
    "    points[:,0]/=norm\n",
    "    points[:,1]/=norm\n",
    "    points[:,2]/=norm\n",
    "    return points\n",
    "    \n",
    "\n",
    "\n",
    "def E(pointsFlat):\n",
    "    points=normalize(np.reshape(pointsFlat,s))\n",
    "    M=distance_matrix(points,points)\n",
    "    inv=1/(M+1e-6)\n",
    "    index=np.arange(len(M))\n",
    "    inv[index,index]=0\n",
    "    return np.sum(inv)\n",
    "    \n",
    "\n",
    "points=normalize(np.reshape(minimize(E,points.flatten()).x,s))"
   ]
  },
  {
   "cell_type": "code",
   "execution_count": 110,
   "metadata": {},
   "outputs": [
    {
     "data": {
      "text/plain": [
       "array([[ 0.9000618 , -0.41854976,  0.12126355],\n",
       "       [ 0.51402068,  0.47074764, -0.71706304],\n",
       "       [ 0.27200074, -0.59492997, -0.75635569],\n",
       "       [ 0.08899584,  0.05268522,  0.99463763],\n",
       "       [-0.29704506,  0.94198275,  0.15630971],\n",
       "       [-0.02853526, -0.89054465,  0.45399997],\n",
       "       [-0.71331304, -0.61917261, -0.32834399],\n",
       "       [-0.57448076,  0.36711149, -0.73157433],\n",
       "       [ 0.71331262,  0.61917234,  0.32834543],\n",
       "       [-0.8750181 ,  0.07149724,  0.47878123]])"
      ]
     },
     "execution_count": 110,
     "metadata": {},
     "output_type": "execute_result"
    }
   ],
   "source": [
    "points"
   ]
  },
  {
   "cell_type": "code",
   "execution_count": 134,
   "metadata": {},
   "outputs": [],
   "source": [
    "radius = 1\n",
    "center = np.array([0, 0, 0])\n",
    "sv = SphericalVoronoi(points, radius, center)\n",
    "sv.sort_vertices_of_regions()"
   ]
  },
  {
   "cell_type": "code",
   "execution_count": 135,
   "metadata": {},
   "outputs": [
    {
     "name": "stderr",
     "output_type": "stream",
     "text": [
      "100%|██████████| 20/20 [00:02<00:00,  7.70it/s]\n"
     ]
    },
    {
     "data": {
      "application/vnd.jupyter.widget-view+json": {
       "model_id": "34c7a6b1597f4b6f9b08c6f4fefe3be1",
       "version_major": 2,
       "version_minor": 0
      },
      "text/plain": [
       "Image(value=b'\\x89PNG\\r\\n\\x1a\\n\\x00\\x00\\x00\\rIHDR\\x00\\x00\\x02\\xbc\\x00\\x00\\x02\\xbc\\x08\\x02\\x00\\x00\\x00\\x82\\xd8\\…"
      ]
     },
     "metadata": {},
     "output_type": "display_data"
    }
   ],
   "source": [
    "# plot the unit sphere for reference (optional)\n",
    "mlab.figure(size=(700,700))\n",
    "\n",
    "\n",
    "for region in tqdm(sv.regions):\n",
    "    t=np.linspace(0,1,100)\n",
    "    for i in range(len(region)):\n",
    "        a=arc(sv.vertices[region[i]],sv.vertices[region[(i+1)%len(region)]],t)\n",
    "        mlab.plot3d(a[:,0]*1.01,a[:,1]*1.01,a[:,2]*1.01,color=(0.9,0.7,0.7),tube_radius=0.01)\n",
    "mlab.points3d(points[:, 0], points[:, 1], points[:, 2],scale_factor=.05,color=(0.2,0.2,1))\n",
    "u = np.linspace(0, 2 * np.pi, 100)\n",
    "v = np.linspace(0, np.pi, 100)\n",
    "x = np.outer(np.cos(u), np.sin(v))\n",
    "y = np.outer(np.sin(u), np.sin(v))\n",
    "mlab.mesh(x, y, z)\n"
   ]
  }
 ],
 "metadata": {
  "hide_input": false,
  "kernelspec": {
   "display_name": "Python 3",
   "language": "python",
   "name": "python3"
  },
  "language_info": {
   "codemirror_mode": {
    "name": "ipython",
    "version": 3
   },
   "file_extension": ".py",
   "mimetype": "text/x-python",
   "name": "python",
   "nbconvert_exporter": "python",
   "pygments_lexer": "ipython3",
   "version": "3.7.3"
  },
  "toc": {
   "base_numbering": 1,
   "nav_menu": {},
   "number_sections": true,
   "sideBar": true,
   "skip_h1_title": false,
   "title_cell": "Table of Contents",
   "title_sidebar": "Contents",
   "toc_cell": false,
   "toc_position": {},
   "toc_section_display": true,
   "toc_window_display": false
  }
 },
 "nbformat": 4,
 "nbformat_minor": 4
}
