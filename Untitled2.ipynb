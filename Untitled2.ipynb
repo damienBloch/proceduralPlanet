{
 "cells": [
  {
   "cell_type": "code",
   "execution_count": 1,
   "metadata": {
    "ExecuteTime": {
     "end_time": "2020-08-18T20:42:51.125492Z",
     "start_time": "2020-08-18T20:42:50.222977Z"
    }
   },
   "outputs": [],
   "source": [
    "%load_ext autoreload\n",
    "%autoreload 2\n",
    "from planetGenerator import PlanetGenerator\n",
    "from planet import PlanetParameters\n",
    "import matplotlib.pyplot as plt\n",
    "import cartopy.crs as ccrs\n",
    "import numpy as np\n",
    "from mesh_generator import createGraph\n",
    "from utils import Projection\n",
    "import networkx as nx\n",
    "\n",
    "\n",
    "from scipy.spatial import SphericalVoronoi"
   ]
  },
  {
   "cell_type": "code",
   "execution_count": 15,
   "metadata": {
    "ExecuteTime": {
     "end_time": "2020-08-18T20:46:36.203144Z",
     "start_time": "2020-08-18T20:46:36.186959Z"
    }
   },
   "outputs": [],
   "source": [
    "planetGenerator=PlanetGenerator(PlanetParameters(radius=6400,starTemperature=5778,starRadius=1,starDistance=0.85),2000,numberPlates=30,flood=0.7,seed=1)"
   ]
  },
  {
   "cell_type": "code",
   "execution_count": 16,
   "metadata": {
    "ExecuteTime": {
     "end_time": "2020-08-18T20:46:41.959210Z",
     "start_time": "2020-08-18T20:46:36.715999Z"
    }
   },
   "outputs": [
    {
     "name": "stdout",
     "output_type": "stream",
     "text": [
      "Generate mesh seeds... Done in 447.6 µs\n",
      "Relax mesh points... Done in 289.3 ms\n",
      "Create graph... Done in 379.4 ms\n",
      "Pick plates seeds... Done in 2.8 ms\n",
      "Color plates... Done in 270.6 ms\n",
      "Pick plates type... Done in 3.3 ms\n",
      "Compute distance matrix whithin plates... Done in 2.5 s\n"
     ]
    }
   ],
   "source": [
    "planetGenerator.build()"
   ]
  },
  {
   "cell_type": "code",
   "execution_count": null,
   "metadata": {
    "ExecuteTime": {
     "end_time": "2020-08-18T20:38:32.269747Z",
     "start_time": "2020-08-18T20:38:24.425778Z"
    }
   },
   "outputs": [],
   "source": [
    "plt.figure(figsize=(40,30))\n",
    "ax = plt.axes(projection=ccrs.EckertIV())\n",
    "ax.set_global()\n",
    "\n",
    "\n",
    "\n",
    "planetGenerator.planet.plotTilesJunctions(ax,color=\"r\")\n",
    "planetGenerator.planet.plotMeshPoints(ax,color=\"r\",s=25)\n",
    "planetGenerator.planet.plotPlatesTypes(ax)\n",
    "planetGenerator.planet.plotTilesBorders(ax,color=\"k\")\n",
    "planetGenerator.planet.plotPlatesBorders(ax,color=\"r\",lw=6)\n",
    "\n",
    "\n",
    "\n",
    "plt.show()"
   ]
  },
  {
   "cell_type": "code",
   "execution_count": 19,
   "metadata": {
    "ExecuteTime": {
     "end_time": "2020-08-18T20:46:59.358110Z",
     "start_time": "2020-08-18T20:46:59.339625Z"
    }
   },
   "outputs": [
    {
     "data": {
      "text/plain": [
       "{'corners': [3376, 3377, 2639, 3196, 3195, 626],\n",
       " 'center': array([-0.20021047,  0.76909516,  0.60696655]),\n",
       " 'area': 240415.96207482455,\n",
       " 'label': 10,\n",
       " 'distances': {10: 0,\n",
       "  1442: 412.9171275911343,\n",
       "  1091: 528.2292017311486,\n",
       "  1707: 547.3853612601866,\n",
       "  626: 587.052988087758,\n",
       "  826: 624.1965745183212,\n",
       "  361: 859.0548812740919,\n",
       "  1177: 911.3520741972288,\n",
       "  275: 1043.3503311448064,\n",
       "  740: 1054.94462564818,\n",
       "  1556: 1118.7177137077379,\n",
       "  1242: 1140.8866221630199,\n",
       "  891: 1148.9030759753855,\n",
       "  977: 1222.4230664385723,\n",
       "  561: 1230.3552581603215,\n",
       "  1793: 1261.7248153125263,\n",
       "  96: 1412.0446722585225,\n",
       "  1993: 1477.106745530772,\n",
       "  1356: 1564.7043709151244,\n",
       "  1972: 1570.6409855218292,\n",
       "  1821: 1579.2615491463782,\n",
       "  124: 1590.2364423076144,\n",
       "  75: 1673.9185494341161,\n",
       "  161: 1678.6643010125185,\n",
       "  940: 1722.546898417388,\n",
       "  712: 1729.7857493912986,\n",
       "  426: 1733.8980898954933,\n",
       "  1507: 1748.24303338371,\n",
       "  1528: 1753.8203972860197,\n",
       "  1593: 1794.8550161771775,\n",
       "  1328: 1841.2947180942733,\n",
       "  296: 1882.3069262419526,\n",
       "  912: 1923.9604118995167,\n",
       "  1728: 1997.2744094857007,\n",
       "  540: 2036.5981161659533,\n",
       "  1205: 2050.443842690649,\n",
       "  1263: 2085.1540861603107,\n",
       "  1005: 2137.1982481268096,\n",
       "  1156: 2139.3923983839018,\n",
       "  389: 2143.7426601233683,\n",
       "  691: 2228.5646983649176,\n",
       "  1858: 2228.868282643501,\n",
       "  777: 2229.9373310243914,\n",
       "  589: 2262.5582139557005,\n",
       "  1756: 2266.5980369514004,\n",
       "  1042: 2337.9139888317554,\n",
       "  1291: 2347.19415208151,\n",
       "  324: 2449.2361865697585,\n",
       "  1621: 2467.4574561898635,\n",
       "  1670: 2584.349308111451,\n",
       "  182: 2585.587717368996,\n",
       "  1470: 2627.600115769731,\n",
       "  340: 2673.060858308011,\n",
       "  189: 2711.9085354172225,\n",
       "  1307: 2730.223783171997,\n",
       "  1772: 2747.4866757904506,\n",
       "  854: 2760.5864896388844,\n",
       "  1405: 2814.034877527146,\n",
       "  59: 2854.09188296279,\n",
       "  226: 2905.342284495001,\n",
       "  805: 2993.0353720344688,\n",
       "  1054: 3027.1075722955784,\n",
       "  1140: 3080.3442520929534,\n",
       "  789: 3105.287321781006,\n",
       "  38: 3119.2813645881024,\n",
       "  654: 3172.2565550173613,\n",
       "  238: 3193.027619844744,\n",
       "  491: 3193.968803841347,\n",
       "  1421: 3195.1838827430906,\n",
       "  956: 3246.218933641876,\n",
       "  1935: 3277.0752478485783,\n",
       "  1270: 3281.339281523799,\n",
       "  1319: 3360.3353840245018,\n",
       "  1870: 3378.2698148196096,\n",
       "  1956: 3409.099213332397,\n",
       "  1886: 3539.642633249083,\n",
       "  1605: 3596.154221368231,\n",
       "  438: 3647.891224932367,\n",
       "  524: 3673.6480627556643,\n",
       "  605: 3679.0682068274905,\n",
       "  1119: 3679.978471887917,\n",
       "  1572: 3682.988051623797,\n",
       "  1519: 3687.9510327721355,\n",
       "  503: 3688.2868610303967,\n",
       "  1735: 3691.42096523993,\n",
       "  140: 3712.9221438762443,\n",
       "  173: 3731.0417434445417,\n",
       "  703: 3789.497307942126,\n",
       "  1107: 3865.779735282448,\n",
       "  1784: 3926.91977607356,\n",
       "  1254: 3991.4692467602626,\n",
       "  968: 4182.6925127749855,\n",
       "  87: 4190.053340892888,\n",
       "  903: 4297.052311388137,\n",
       "  1168: 4383.297764483252,\n",
       "  352: 4479.814531073712,\n",
       "  1984: 4582.3003162237055,\n",
       "  1584: 4801.696937494652,\n",
       "  552: 4908.469565539518,\n",
       "  1633: 4925.855180055063,\n",
       "  1368: 4980.184169296881,\n",
       "  1833: 5320.002917994294,\n",
       "  1017: 5393.287113166747,\n",
       "  752: 5491.2799883929665,\n",
       "  1217: 5812.636551534386,\n",
       "  401: 5829.17777282705,\n",
       "  601: 6307.2486068569715}}"
      ]
     },
     "execution_count": 19,
     "metadata": {},
     "output_type": "execute_result"
    }
   ],
   "source": [
    "planetGenerator.planet.platesSubgraphs[1].nodes[10]"
   ]
  }
 ],
 "metadata": {
  "hide_input": false,
  "kernelspec": {
   "display_name": "Python 3",
   "language": "python",
   "name": "python3"
  },
  "language_info": {
   "codemirror_mode": {
    "name": "ipython",
    "version": 3
   },
   "file_extension": ".py",
   "mimetype": "text/x-python",
   "name": "python",
   "nbconvert_exporter": "python",
   "pygments_lexer": "ipython3",
   "version": "3.8.3"
  },
  "toc": {
   "base_numbering": 1,
   "nav_menu": {},
   "number_sections": true,
   "sideBar": true,
   "skip_h1_title": false,
   "title_cell": "Table of Contents",
   "title_sidebar": "Contents",
   "toc_cell": false,
   "toc_position": {},
   "toc_section_display": true,
   "toc_window_display": false
  }
 },
 "nbformat": 4,
 "nbformat_minor": 4
}
