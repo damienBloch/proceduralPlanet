{
 "cells": [
  {
   "cell_type": "code",
   "execution_count": null,
   "metadata": {
    "ExecuteTime": {
     "start_time": "2020-08-17T21:18:27.144Z"
    }
   },
   "outputs": [],
   "source": [
    "%load_ext autoreload\n",
    "%autoreload 2\n",
    "from planetGenerator import PlanetGenerator\n",
    "from planet import PlanetParameters\n",
    "import matplotlib.pyplot as plt\n",
    "import cartopy.crs as ccrs\n",
    "import numpy as np\n",
    "from mesh_generator import createGraph\n",
    "from utils import Projection\n",
    "s\n",
    "\n",
    "from scipy.spatial import SphericalVoronoi"
   ]
  },
  {
   "cell_type": "code",
   "execution_count": null,
   "metadata": {
    "ExecuteTime": {
     "start_time": "2020-08-17T21:10:59.477Z"
    }
   },
   "outputs": [],
   "source": [
    "planetGenerator=PlanetGenerator(PlanetParameters(radius=6400,starTemperature=5778,starRadius=1,starDistance=0.85),5000)"
   ]
  },
  {
   "cell_type": "code",
   "execution_count": null,
   "metadata": {
    "ExecuteTime": {
     "end_time": "2020-08-17T20:31:46.545761Z",
     "start_time": "2020-08-17T20:31:43.575809Z"
    }
   },
   "outputs": [],
   "source": [
    "%load_ext line_profiler\n",
    "%lprun -f createGraph createGraph(planetGenerator.planet,planetGenerator)"
   ]
  },
  {
   "cell_type": "code",
   "execution_count": null,
   "metadata": {
    "ExecuteTime": {
     "end_time": "2020-08-17T20:25:42.009326Z",
     "start_time": "2020-08-17T20:25:41.937992Z"
    }
   },
   "outputs": [],
   "source": [
    "planetGenerator.planet.meshCorners.edges.data(\"length\")"
   ]
  },
  {
   "cell_type": "code",
   "execution_count": null,
   "metadata": {
    "ExecuteTime": {
     "start_time": "2020-08-17T21:10:29.726Z"
    }
   },
   "outputs": [],
   "source": [
    "planetGenerator.build()"
   ]
  },
  {
   "cell_type": "code",
   "execution_count": null,
   "metadata": {
    "ExecuteTime": {
     "end_time": "2020-08-17T21:03:51.337124Z",
     "start_time": "2020-08-17T21:03:36.359630Z"
    }
   },
   "outputs": [],
   "source": [
    "plt.figure(figsize=(20,20))\n",
    "ax = plt.axes(projection=ccrs.NearsidePerspective(central_latitude=90))\n",
    "ax.set_global()\n",
    "\n",
    "planetGenerator.planet.plotMeshPoints(ax,color=\"red\")\n",
    "ax.add_collection(mc.LineCollection(lines,transform=ccrs.Geodetic()))"
   ]
  },
  {
   "cell_type": "code",
   "execution_count": null,
   "metadata": {
    "ExecuteTime": {
     "end_time": "2020-08-17T20:59:56.991534Z",
     "start_time": "2020-08-17T20:59:56.783226Z"
    }
   },
   "outputs": [],
   "source": [
    "ax=plt.subplot()\n",
    "ax.add_collection(mc.LineCollection(lines))"
   ]
  },
  {
   "cell_type": "code",
   "execution_count": null,
   "metadata": {
    "ExecuteTime": {
     "end_time": "2020-08-17T21:03:34.386229Z",
     "start_time": "2020-08-17T21:03:33.910940Z"
    },
    "scrolled": false
   },
   "outputs": [],
   "source": [
    "planet=planetGenerator.planet\n",
    "segments=np.array([[planet.meshCorners.nodes[i][\"position\"],planet.meshCorners.nodes[j][\"position\"]] for (i,j) in planet.meshCorners.edges])\n",
    "(x,y,z)=np.shape(segments)\n",
    "segments=np.reshape(segments,(x*y,z))\n",
    "lat,long=Projection().toLatLong(segments)\n",
    "lat=np.reshape(lat,(x,y))\n",
    "long=np.reshape(long,(x,y))\n",
    "lines=[[(slong[0],slat[0]),(slong[1],slat[1])] for slat,slong in zip(lat,long)]"
   ]
  },
  {
   "cell_type": "code",
   "execution_count": null,
   "metadata": {
    "ExecuteTime": {
     "end_time": "2020-08-17T21:03:34.761360Z",
     "start_time": "2020-08-17T21:03:34.747631Z"
    }
   },
   "outputs": [],
   "source": [
    "from matplotlib import collections as mc\n"
   ]
  }
 ],
 "metadata": {
  "hide_input": false,
  "kernelspec": {
   "display_name": "Python 3",
   "language": "python",
   "name": "python3"
  },
  "language_info": {
   "codemirror_mode": {
    "name": "ipython",
    "version": 3
   },
   "file_extension": ".py",
   "mimetype": "text/x-python",
   "name": "python",
   "nbconvert_exporter": "python",
   "pygments_lexer": "ipython3",
   "version": "3.7.3"
  },
  "toc": {
   "base_numbering": 1,
   "nav_menu": {},
   "number_sections": true,
   "sideBar": true,
   "skip_h1_title": false,
   "title_cell": "Table of Contents",
   "title_sidebar": "Contents",
   "toc_cell": false,
   "toc_position": {},
   "toc_section_display": true,
   "toc_window_display": false
  }
 },
 "nbformat": 4,
 "nbformat_minor": 4
}
