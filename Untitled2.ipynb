{
 "cells": [
  {
   "cell_type": "code",
   "execution_count": null,
   "metadata": {
    "ExecuteTime": {
     "end_time": "2020-09-27T14:09:46.263602Z",
     "start_time": "2020-09-27T14:09:45.098873Z"
    }
   },
   "outputs": [],
   "source": [
    "%load_ext autoreload\n",
    "%autoreload 2\n",
    "from planetGenerator import PlanetGenerator\n",
    "from planet import PlanetParameters\n",
    "import matplotlib.pyplot as plt\n",
    "import cartopy.crs as ccrs\n",
    "import numpy as np\n",
    "from mesh_generator import createGraph\n",
    "from utils import Projection\n",
    "\n",
    "from scipy.spatial import SphericalVoronoi\n",
    "from graph_tool.all import *"
   ]
  },
  {
   "cell_type": "code",
   "execution_count": null,
   "metadata": {
    "ExecuteTime": {
     "end_time": "2020-09-27T18:42:18.337078Z",
     "start_time": "2020-09-27T18:42:18.320674Z"
    },
    "run_control": {
     "marked": true
    }
   },
   "outputs": [],
   "source": [
    "planetGenerator=PlanetGenerator(PlanetParameters(radius=6400,starTemperature=5778,starRadius=1,starDistance=0.85),7000,numberPlates=25,flood=0.7,seed=0)"
   ]
  },
  {
   "cell_type": "code",
   "execution_count": null,
   "metadata": {
    "ExecuteTime": {
     "start_time": "2020-09-27T18:42:18.379Z"
    },
    "run_control": {
     "marked": true
    }
   },
   "outputs": [],
   "source": [
    "planetGenerator.build()"
   ]
  },
  {
   "cell_type": "code",
   "execution_count": null,
   "metadata": {
    "ExecuteTime": {
     "end_time": "2020-09-27T18:31:00.777711Z",
     "start_time": "2020-09-27T18:30:52.672301Z"
    },
    "run_control": {
     "marked": true
    },
    "scrolled": false
   },
   "outputs": [],
   "source": [
    "plt.figure(figsize=(40,30))\n",
    "ax = plt.axes(projection=ccrs.EckertIV())\n",
    "ax.set_global()\n",
    "\n",
    "\n",
    "#planetGenerator.planet.plotTilesJunctions(ax,linestyle=\"dotted\",color=\"r\",zorder=np.inf)\n",
    "#planetGenerator.planet.plotMeshPoints(ax,color=\"r\",s=20,zorder=np.inf)\n",
    "planetGenerator.planet.plotRelief(ax,lw=0)\n",
    "#planetGenerator.planet.plotTilesBorders(ax,color=\"k\")\n",
    "#planetGenerator.planet.plotPlatesBorders(ax,color=\"red\",lw=2)\n",
    "#planetGenerator.planet.plotPlatesSpeed(ax,color=\"orange\",lw=1)\n",
    "#planetGenerator.planet.plotPressure(ax,ec=\"white\")\n",
    "\n",
    "\n",
    "plt.savefig(\"planet.pdf\")\n",
    "plt.show()"
   ]
  },
  {
   "cell_type": "code",
   "execution_count": null,
   "metadata": {
    "ExecuteTime": {
     "end_time": "2020-09-26T17:41:48.301162Z",
     "start_time": "2020-09-26T17:41:48.283925Z"
    }
   },
   "outputs": [],
   "source": [
    "planet=planetGenerator.planet\n",
    "planet.plates.vp.resistance[0].items()\n",
    "    "
   ]
  },
  {
   "cell_type": "code",
   "execution_count": null,
   "metadata": {
    "ExecuteTime": {
     "end_time": "2020-09-26T17:44:50.041021Z",
     "start_time": "2020-09-26T17:44:49.815315Z"
    }
   },
   "outputs": [],
   "source": [
    "planet=planetGenerator.planet\n",
    "plt.hist(planet.meshCenters.vp.elevation.a,bins=100);\n"
   ]
  },
  {
   "cell_type": "code",
   "execution_count": null,
   "metadata": {
    "ExecuteTime": {
     "end_time": "2020-09-27T17:08:07.160290Z",
     "start_time": "2020-09-27T17:08:06.691803Z"
    }
   },
   "outputs": [],
   "source": [
    "planet=planetGenerator.planet\n",
    "plt.hist(planet.meshCenters.vp.elevation.a,bins=100);\n",
    "elevation=planet.meshCenters.vp.elevation.a\n",
    "len(elevation[elevation<0])/len(elevation)"
   ]
  },
  {
   "cell_type": "code",
   "execution_count": null,
   "metadata": {
    "ExecuteTime": {
     "end_time": "2020-09-27T17:09:56.437202Z",
     "start_time": "2020-09-27T17:09:56.159738Z"
    }
   },
   "outputs": [],
   "source": [
    "planet=planetGenerator.planet\n",
    "plt.hist((planet.meshCenters.vp.area.a/np.pi)**.5*2,bins=100);\n"
   ]
  },
  {
   "cell_type": "code",
   "execution_count": null,
   "metadata": {
    "ExecuteTime": {
     "end_time": "2020-09-27T17:16:41.549740Z",
     "start_time": "2020-09-27T17:16:41.533547Z"
    }
   },
   "outputs": [],
   "source": [
    "np.std(num)"
   ]
  },
  {
   "cell_type": "code",
   "execution_count": null,
   "metadata": {
    "ExecuteTime": {
     "end_time": "2020-09-27T17:16:03.908856Z",
     "start_time": "2020-09-27T17:16:03.631073Z"
    },
    "run_control": {
     "marked": false
    }
   },
   "outputs": [],
   "source": [
    "num=[len(list(v.out_neighbors())) for v in planet.meshCenters.vertices()]\n",
    "plt.hist(num,bins=50);\n",
    "n=range(10)\n",
    "l=6\n",
    "plt.plot(list(n),list(map(lambda n:len(num)*l**n*np.exp(-l)/np.math.factorial(n),n)),\"o\")"
   ]
  }
 ],
 "metadata": {
  "hide_input": false,
  "kernelspec": {
   "display_name": "Python 3",
   "language": "python",
   "name": "python3"
  },
  "language_info": {
   "codemirror_mode": {
    "name": "ipython",
    "version": 3
   },
   "file_extension": ".py",
   "mimetype": "text/x-python",
   "name": "python",
   "nbconvert_exporter": "python",
   "pygments_lexer": "ipython3",
   "version": "3.8.5"
  },
  "toc": {
   "base_numbering": 1,
   "nav_menu": {},
   "number_sections": true,
   "sideBar": true,
   "skip_h1_title": false,
   "title_cell": "Table of Contents",
   "title_sidebar": "Contents",
   "toc_cell": false,
   "toc_position": {},
   "toc_section_display": true,
   "toc_window_display": false
  }
 },
 "nbformat": 4,
 "nbformat_minor": 4
}
